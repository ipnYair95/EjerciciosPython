{
 "cells": [
  {
   "cell_type": "code",
   "execution_count": 54,
   "metadata": {},
   "outputs": [
    {
     "name": "stdout",
     "output_type": "stream",
     "text": [
      "Options:\n",
      "            1) Calculate nth Fibonacci\n",
      "            2) List Fibonacci terms lower than n\n",
      "    \n",
      "invalid literal for int() with base 10: ''\n"
     ]
    }
   ],
   "source": [
    "def fibonacci(n):\n",
    "    '''\n",
    "    Return nth Fibonacci using a recursive function\n",
    "    input: \n",
    "        n:int -> Number to calculate nth Fibonacci\n",
    "    output: \n",
    "        The Fibonacci value in nth number\n",
    "    >>> fibonaci(5)\n",
    "    5\n",
    "    '''\n",
    "    if n < 2:\n",
    "        return 1\n",
    "    else:\n",
    "        return fibonacci(n-1)+fibonacci(n-2)\n",
    "\n",
    "\n",
    "def fibonacciUpTo(n):\n",
    "    '''\n",
    "    Return a list where elements Fibonacci will be lower than n\n",
    "    input:\n",
    "        n: int -> Limit number \n",
    "    output:\n",
    "        list: -> List with integer numbers Fibonacci lower than n\n",
    "    >>>fibonacciUpTo(6)\n",
    "    [0, 1, 1, 2, 3, 5]\n",
    "    '''\n",
    "    sequence = [0, 1]\n",
    "\n",
    "    for i in range(1, n+1):\n",
    "        next = sequence[-1]+sequence[-2]\n",
    "        if(next > n):\n",
    "            return sequence\n",
    "        else:\n",
    "            sequence.append(next)\n",
    "\n",
    "\n",
    "def invalid(n):\n",
    "    '''\n",
    "    function that throws an exception if you choose a non-existent option\n",
    "    '''\n",
    "    raise Exception(\"Operation not found\")\n",
    "\n",
    "\n",
    "def custom_switch(n, opt=\"0\"):\n",
    "    '''\n",
    "    Choose an option without use \"sentence if or switch\"\n",
    "    input:\n",
    "        n:int -> Number to use in both Fibonacci options\n",
    "        opt:str -> Option selected by default selects the first option.\n",
    "    output:\n",
    "        Result of the selected option\n",
    "    >>>custom_switch(5,\"1\")\n",
    "    Result of the selected option\n",
    "    '''\n",
    "    ops = {\n",
    "        \"1\": fibonacci,\n",
    "        \"2\": fibonacciUpTo\n",
    "    }\n",
    "\n",
    "    func_selected = ops.get(opt, invalid)\n",
    "    return func_selected(n)\n",
    "\n",
    "############################################\n",
    "\n",
    "'''\n",
    "    1) Digit the option to use\n",
    "    2) Digit the number\n",
    "'''\n",
    "\n",
    "try:\n",
    "    print('''Options:\n",
    "            1) Calculate nth Fibonacci\n",
    "            2) List Fibonacci terms lower than n\n",
    "    ''')\n",
    "    opt = input('Select option: ')\n",
    "    n = int(input('Digit a number upper than 0: '))\n",
    "    \n",
    "    if( type(n) != int or n < 1 ):\n",
    "        raise Exception(\"The number should be upper than 0\")    \n",
    "    \n",
    "    print(f'Result for operation # {opt} with n = {n}')\n",
    "    print('>>>',custom_switch(n, opt))\n",
    "except Exception as e:\n",
    "    print( str(e) )\n"
   ]
  },
  {
   "cell_type": "code",
   "execution_count": null,
   "metadata": {},
   "outputs": [],
   "source": []
  }
 ],
 "metadata": {
  "colab": {
   "name": "Exam of the first module.ipynb",
   "provenance": []
  },
  "kernelspec": {
   "display_name": "Python 3 (ipykernel)",
   "language": "python",
   "name": "python3"
  },
  "language_info": {
   "codemirror_mode": {
    "name": "ipython",
    "version": 3
   },
   "file_extension": ".py",
   "mimetype": "text/x-python",
   "name": "python",
   "nbconvert_exporter": "python",
   "pygments_lexer": "ipython3",
   "version": "3.10.1"
  },
  "toc": {
   "base_numbering": 1,
   "nav_menu": {},
   "number_sections": true,
   "sideBar": true,
   "skip_h1_title": false,
   "title_cell": "Table of Contents",
   "title_sidebar": "Contents",
   "toc_cell": false,
   "toc_position": {},
   "toc_section_display": true,
   "toc_window_display": false
  },
  "varInspector": {
   "cols": {
    "lenName": 16,
    "lenType": 16,
    "lenVar": 40
   },
   "kernels_config": {
    "python": {
     "delete_cmd_postfix": "",
     "delete_cmd_prefix": "del ",
     "library": "var_list.py",
     "varRefreshCmd": "print(var_dic_list())"
    },
    "r": {
     "delete_cmd_postfix": ") ",
     "delete_cmd_prefix": "rm(",
     "library": "var_list.r",
     "varRefreshCmd": "cat(var_dic_list()) "
    }
   },
   "types_to_exclude": [
    "module",
    "function",
    "builtin_function_or_method",
    "instance",
    "_Feature"
   ],
   "window_display": false
  }
 },
 "nbformat": 4,
 "nbformat_minor": 4
}
