{
 "cells": [
  {
   "cell_type": "markdown",
   "metadata": {
    "id": "0HzVioHNbDYy"
   },
   "source": [
    "# Theory - Marín Alavez Edgar Yair"
   ]
  },
  {
   "cell_type": "markdown",
   "metadata": {
    "id": "V9GG9v9ybDZC"
   },
   "source": [
    "### State the differences between `for` and `while` loops"
   ]
  },
  {
   "cell_type": "markdown",
   "metadata": {
    "id": "2Lg-OgctbDZG"
   },
   "source": [
    "* En los `for` conocemos la inicialización de nuestro indice bandera.\n",
    "* También el número de iteraciones es conocida o estimada, en un `while` muchas veces la bandera es externa que usamos como condición de salida.\n",
    "* Por otro lado el `for` también es más usado para iterar listas o arreglos y un `while` para realizar operaciones"
   ]
  },
  {
   "cell_type": "markdown",
   "metadata": {
    "id": "S1C0ETk-bDZI"
   },
   "source": [
    "### What is _data casting_?"
   ]
  },
  {
   "cell_type": "markdown",
   "metadata": {
    "id": "CJDwJP0gbDZM"
   },
   "source": [
    "Es transformar un tipo de dato a otro, siempre y cuando se pueda o existan las condiciones por ejemplo convertir una cadena que contiene un número \"1\" a entero 1."
   ]
  },
  {
   "cell_type": "markdown",
   "metadata": {
    "id": "OmOLejTnbDZO"
   },
   "source": [
    "### What is a _wrapper_ function? Give examples"
   ]
  },
  {
   "cell_type": "markdown",
   "metadata": {
    "id": "4eZ_-AzCbDZS"
   },
   "source": [
    "Son objetos o clases superiores que envuelven objetos primitivos generalmente o hijos, por ejemplo podemos tener el primitivo `int` y puede ser envuelto por una clase de `Int` que contiene métodos a diferencia de un primitivo, por ejemplo en `Java` es común ver esto con el `int` que es envuelto por la clase `Integer`. "
   ]
  },
  {
   "cell_type": "markdown",
   "metadata": {
    "id": "Rl6Vcv0XbDZU"
   },
   "source": [
    "#### Mention the similarities and differences between the `str` and `list` data types"
   ]
  },
  {
   "cell_type": "markdown",
   "metadata": {
    "id": "rThn0ndxbDZd"
   },
   "source": [
    "* `Semenjanzas`\n",
    "    * Al final del día ambos se traducen como un arreglo ya que los string son arreglos de cadenas que se pueden iterar.\n",
    "    \n",
    "* `Diferencias`\n",
    "    * Los `str` solamente pueden almacenar chars, mientras los `list` cualquier cosa\n",
    "    * Los `str` son inmutables si queremos reemplazar directamente un char usando `pal[index]` nos va decir que no se puede, en cambio las listas si se pueden cambiar\n",
    "    "
   ]
  },
  {
   "cell_type": "markdown",
   "metadata": {
    "id": "Gv5ViZ_DbDZm"
   },
   "source": [
    "### What is _aliasing_? Give an example"
   ]
  },
  {
   "cell_type": "markdown",
   "metadata": {},
   "source": [
    "Más que nombrar variables es que estos nombres apuntan a referencias en memoria donde los valores son almacenados es por ello que empleamos el uso de valores por referencia. En el ejemplo de abajo podemos ver como ambas variables apuntan a la misma referencia por el cual se puede decir 'No son diferentes ni en valor ni en referencia, únicamente por el ' `alias`."
   ]
  },
  {
   "cell_type": "code",
   "execution_count": 6,
   "metadata": {},
   "outputs": [
    {
     "name": "stdout",
     "output_type": "stream",
     "text": [
      "2411219485296 2411219485296\n",
      "Hola mundo Hola mundo\n"
     ]
    }
   ],
   "source": [
    "ref1 = \"Hola mundo\"\n",
    "ref2 = ref1\n",
    "\n",
    "print( id(ref1) , id(ref2) )\n",
    "print( ref1 , ref2 )"
   ]
  },
  {
   "cell_type": "markdown",
   "metadata": {
    "id": "ZQEIOJIUbDZp"
   },
   "source": [
    "- Can I have functions with more than one `return`?\n",
    "- Can I have functions without `return`?"
   ]
  },
  {
   "cell_type": "markdown",
   "metadata": {
    "id": "CALc4A1ibDZr"
   },
   "source": [
    "* Si y no, en las funciones se puede tener un return envuelto en una condición, sin embargo, es recomendado que el return se encuentre al final y en las condiciones, asignamos el valor que queremos devolver. Estrictamente sin condiciones no se puede `hacer` más de un return ya que el primero que encuentre hará que lo demás no se ejecute.\n",
    "\n",
    "* Si, se le conoce como retorno `void` empleado generalmente para hacer acciones con variables externas o imprimir alguna información o incluso si estás modificando un tipo de dato se puede manipular por referencia, no es necesario regresar algo."
   ]
  },
  {
   "cell_type": "markdown",
   "metadata": {
    "id": "dKf3Nos5bDZr"
   },
   "source": [
    "### Can I assign functions that have no `return` value to a variable?"
   ]
  },
  {
   "cell_type": "markdown",
   "metadata": {
    "id": "LlTqQbpUbDZs"
   },
   "source": [
    "De que se puede si, sin embargo, no tiene sentido debido a que como no va retornar algo la variable quedara asignada con `None` por el cual si no hay un retorno, basta con llamar a la función simplemente sin asignarla."
   ]
  },
  {
   "cell_type": "code",
   "execution_count": 8,
   "metadata": {},
   "outputs": [
    {
     "name": "stdout",
     "output_type": "stream",
     "text": [
      "hola\n",
      "None\n"
     ]
    }
   ],
   "source": [
    "def imp():\n",
    "    print(\"hola\")\n",
    "    \n",
    "hola = imp();\n",
    "\n",
    "print(hola)"
   ]
  },
  {
   "cell_type": "markdown",
   "metadata": {
    "id": "kCa3XkCrbDZt"
   },
   "source": [
    "### What elements should the _documentation_ contain?"
   ]
  },
  {
   "cell_type": "markdown",
   "metadata": {
    "id": "MjLiVGgMbDZu"
   },
   "source": [
    "* ¿Que hará la función, clase o línea?.\n",
    "* ¿Qué tipo de parámetros vamos a usar y su uso?\n",
    "* ¿Que nos va a dar de salida la función?\n",
    "* Un ejemplo de uso y si es posible como se verá a salida.\n",
    "* Alguna referencia importante URL a la documentación oficial de alguna librería y de igual modo si se tiene que tener en cuenta algo relevante como si ¿Es requerido algún permiso?\n",
    "* Se puede poner el autor.\n",
    "* Legalidad o derechos."
   ]
  },
  {
   "cell_type": "markdown",
   "metadata": {
    "id": "Hf0_uUg5bDZw"
   },
   "source": [
    "Imagine that you have an object called _toto_.\n",
    "- How would you access its _f1_ method that receives two parameters?\n",
    "- How do yoou acces to its _momo_ attribute?\n",
    "- How could you see all the methods and attributes of _toto_?"
   ]
  },
  {
   "cell_type": "markdown",
   "metadata": {
    "id": "4d3L6Cd7bDZw"
   },
   "source": [
    "* Si estamos pensando en un paradigma POO se realiza de la siguiente manera:\n",
    "    * `toto.f1(param1,param2)`\n",
    "    * `toto.atributo` o si implementamos un getter `toto.getAtributo()`\n",
    "    * Usando `dir()` o implementar un metodo que te brinde la información con un formato"
   ]
  }
 ],
 "metadata": {
  "colab": {
   "name": "Exam of the first module.ipynb",
   "provenance": []
  },
  "kernelspec": {
   "display_name": "Python 3",
   "language": "python",
   "name": "python3"
  },
  "language_info": {
   "codemirror_mode": {
    "name": "ipython",
    "version": 3
   },
   "file_extension": ".py",
   "mimetype": "text/x-python",
   "name": "python",
   "nbconvert_exporter": "python",
   "pygments_lexer": "ipython3",
   "version": "3.10.1"
  },
  "toc": {
   "base_numbering": 1,
   "nav_menu": {},
   "number_sections": true,
   "sideBar": true,
   "skip_h1_title": false,
   "title_cell": "Table of Contents",
   "title_sidebar": "Contents",
   "toc_cell": false,
   "toc_position": {},
   "toc_section_display": true,
   "toc_window_display": false
  },
  "varInspector": {
   "cols": {
    "lenName": 16,
    "lenType": 16,
    "lenVar": 40
   },
   "kernels_config": {
    "python": {
     "delete_cmd_postfix": "",
     "delete_cmd_prefix": "del ",
     "library": "var_list.py",
     "varRefreshCmd": "print(var_dic_list())"
    },
    "r": {
     "delete_cmd_postfix": ") ",
     "delete_cmd_prefix": "rm(",
     "library": "var_list.r",
     "varRefreshCmd": "cat(var_dic_list()) "
    }
   },
   "types_to_exclude": [
    "module",
    "function",
    "builtin_function_or_method",
    "instance",
    "_Feature"
   ],
   "window_display": false
  }
 },
 "nbformat": 4,
 "nbformat_minor": 4
}
