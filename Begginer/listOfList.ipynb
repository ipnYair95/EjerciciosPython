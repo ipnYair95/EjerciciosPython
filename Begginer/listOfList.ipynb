{
 "cells": [
  {
   "cell_type": "code",
   "execution_count": 20,
   "metadata": {},
   "outputs": [
    {
     "name": "stdout",
     "output_type": "stream",
     "text": [
      "[[1, 2, 3], [4, 4, 5], [7, 8, 9]]\n"
     ]
    }
   ],
   "source": [
    "def list_of_lists(list, n):\n",
    "    '''\n",
    "    Function that slices the list in sublist using n as limit\n",
    "    input:\n",
    "        list: list -> list for divide\n",
    "        n:int -> limit of elements in each sublist\n",
    "    output:\n",
    "        list -> list of list\n",
    "    >>>list_of_list(list,4)\n",
    "    [[1, 2, 3, 4], [4, 5, 7, 8], [9]]\n",
    "    '''\n",
    "    newList = []\n",
    "    for i in range(0, len(list), n):\n",
    "        newList.append(list[i:(i+n)])\n",
    "\n",
    "    return newList\n",
    "\n",
    "################\n",
    "\n",
    "'''\n",
    "    1) Digit the number of elements for the sublists\n",
    "'''\n",
    "\n",
    "n = 0\n",
    "lista = [1, 2, 3, 4, 4, 5, 7, 8, 9]\n",
    "\n",
    "try:\n",
    "    n = int( input('Digit the number of elements for the sublist: ') )\n",
    "    if( type(n) != int  ):\n",
    "        raise Exception('Invalid value')\n",
    "    elif n >= len(lista) or n < 2:\n",
    "        raise Exception('n should be lower than length of list and greather than 1')\n",
    "    else:\n",
    "        print( list_of_lists(lista,n) )\n",
    "except Exception as e:\n",
    "    print(e)\n"
   ]
  },
  {
   "cell_type": "code",
   "execution_count": null,
   "metadata": {},
   "outputs": [],
   "source": []
  }
 ],
 "metadata": {
  "interpreter": {
   "hash": "22cee3f43e207afcfea1f6401ec209eca19742c8a2dad607ec2c90430a6c0b46"
  },
  "kernelspec": {
   "display_name": "Python 3.10.1 64-bit",
   "language": "python",
   "name": "python3"
  },
  "language_info": {
   "codemirror_mode": {
    "name": "ipython",
    "version": 3
   },
   "file_extension": ".py",
   "mimetype": "text/x-python",
   "name": "python",
   "nbconvert_exporter": "python",
   "pygments_lexer": "ipython3",
   "version": "3.10.1"
  },
  "orig_nbformat": 4
 },
 "nbformat": 4,
 "nbformat_minor": 2
}
