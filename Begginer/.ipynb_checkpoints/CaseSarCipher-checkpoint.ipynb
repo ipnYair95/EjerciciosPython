{
 "cells": [
  {
   "cell_type": "code",
   "execution_count": 74,
   "metadata": {},
   "outputs": [
    {
     "name": "stdout",
     "output_type": "stream",
     "text": [
      "What do you want to do?\n",
      "            1) Encode a text\n",
      "            2) Decode text\n",
      "            3) Exit\n",
      "            \n",
      " Text: Hola mundo \n",
      " Encode text: Lspe qyrhs with offset 4 \n",
      "What do you want to do?\n",
      "            1) Encode a text\n",
      "            2) Decode text\n",
      "            3) Exit\n",
      "            \n"
     ]
    }
   ],
   "source": [
    "def calculate_new_char(char, pos, limit, flag):\n",
    "    pos = 26 - pos if flag else pos\n",
    "    return (char - limit + pos) % 26 + limit\n",
    "\n",
    "\n",
    "def caesar_Cipher(text, pos, flag=False):\n",
    "    newText = \"\"\n",
    "    for i in range(len(text)):\n",
    "        char = text[i]\n",
    "\n",
    "        if(ord(char) == 32):\n",
    "            newText += char\n",
    "        elif(char.isupper()):\n",
    "            newText += chr(calculate_new_char(ord(char), pos, 65, flag))\n",
    "        else:\n",
    "            newText += chr(calculate_new_char(ord(char), pos, 97, flag))\n",
    "\n",
    "    return newText\n",
    "\n",
    "#############\n",
    "\n",
    "def encode(states):\n",
    "    text = input('Insert your text to encode')\n",
    "    offset = int(input('Digit your offset'))\n",
    "    encodeText = caesar_Cipher(text, offset)\n",
    "    states['encodeText'] = encodeText\n",
    "    states['offset'] = offset\n",
    "    print(f' Text: {text} ')\n",
    "    print(f' Encode text: {encodeText} with offset {offset} ')\n",
    "    \n",
    "def decode(states):\n",
    "    text = states['encodeText']\n",
    "    offset = states['offset']\n",
    "    print(f'''What do you want to decode?\n",
    "        1) Decode previous text {text}\n",
    "        2) Decode another text\n",
    "        ''')\n",
    "    opt = int(input('Choose an option'))\n",
    "    if opt == 1:\n",
    "        textDecode = caesar_Cipher(text, offset, True)\n",
    "        print(f'Encode text {encodeText} with offset {offset} ')\n",
    "        print(f'Decode text: {textDecode} ')\n",
    "        \n",
    "    else:\n",
    "        textCustom = input('Insert your text to decode')\n",
    "        offsetCustom = int(input('Digit your offset for this text'))\n",
    "        textDecode = caesar_Cipher(textCustom, offsetCustom, True)\n",
    "        print(f'Encode text {textCustom} with offset {offsetCustom} ')\n",
    "        print(f'Decode text: {textDecode} ')\n",
    "    \n",
    "def exit(states):\n",
    "    states['flag'] = True\n",
    "    \n",
    "    \n",
    "def invalid(states):\n",
    "    print(\"invalida\")\n",
    "    return   \n",
    "\n",
    "\n",
    "def custom_switch(states, opt=\"0\"):\n",
    "    '''\n",
    "    Choose an option without use \"sentence if or switch\"\n",
    "    input:\n",
    "        n:int -> Number to use in both Fibonacci options\n",
    "        opt:str -> Option selected by default selects the first option.\n",
    "    output:\n",
    "        Result of the selected option\n",
    "    >>>custom_switch(5,\"1\")\n",
    "    Result of the selected option\n",
    "    '''\n",
    "    ops = {\n",
    "        \"1\": encode,\n",
    "        \"2\": decode,\n",
    "        \"3\": exit\n",
    "    }\n",
    "\n",
    "    func_selected = ops.get(opt, invalid)\n",
    "    return func_selected(states)\n",
    "\n",
    "##################\n",
    "\n",
    "\n",
    "states = {\n",
    "    \"encodeText\": \"\",\n",
    "    \"offset\": \"\",\n",
    "    \"flag\": False\n",
    "}\n",
    "\n",
    "while not states['flag']:    \n",
    "\n",
    "    print('''What do you want to do?\n",
    "            1) Encode a text\n",
    "            2) Decode text\n",
    "            3) Exit\n",
    "            ''')\n",
    "\n",
    "    opt = input('Choose an option')\n",
    "    custom_switch(states,opt)\n",
    "    \n",
    "    \n"
   ]
  }
 ],
 "metadata": {
  "colab": {
   "name": "Exam of the first module.ipynb",
   "provenance": []
  },
  "kernelspec": {
   "display_name": "Python 3",
   "language": "python",
   "name": "python3"
  },
  "language_info": {
   "codemirror_mode": {
    "name": "ipython",
    "version": 3
   },
   "file_extension": ".py",
   "mimetype": "text/x-python",
   "name": "python",
   "nbconvert_exporter": "python",
   "pygments_lexer": "ipython3",
   "version": "3.10.1"
  },
  "toc": {
   "base_numbering": 1,
   "nav_menu": {},
   "number_sections": true,
   "sideBar": true,
   "skip_h1_title": false,
   "title_cell": "Table of Contents",
   "title_sidebar": "Contents",
   "toc_cell": false,
   "toc_position": {},
   "toc_section_display": true,
   "toc_window_display": false
  },
  "varInspector": {
   "cols": {
    "lenName": 16,
    "lenType": 16,
    "lenVar": 40
   },
   "kernels_config": {
    "python": {
     "delete_cmd_postfix": "",
     "delete_cmd_prefix": "del ",
     "library": "var_list.py",
     "varRefreshCmd": "print(var_dic_list())"
    },
    "r": {
     "delete_cmd_postfix": ") ",
     "delete_cmd_prefix": "rm(",
     "library": "var_list.r",
     "varRefreshCmd": "cat(var_dic_list()) "
    }
   },
   "types_to_exclude": [
    "module",
    "function",
    "builtin_function_or_method",
    "instance",
    "_Feature"
   ],
   "window_display": false
  }
 },
 "nbformat": 4,
 "nbformat_minor": 4
}
