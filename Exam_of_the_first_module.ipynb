{
 "cells": [
  {
   "cell_type": "markdown",
   "metadata": {
    "id": "0HzVioHNbDYy"
   },
   "source": [
    "# Theory"
   ]
  },
  {
   "cell_type": "markdown",
   "metadata": {
    "id": "V9GG9v9ybDZC"
   },
   "source": [
    "State the differences between `for` and `while` loops"
   ]
  },
  {
   "cell_type": "markdown",
   "metadata": {
    "id": "2Lg-OgctbDZG"
   },
   "source": []
  },
  {
   "cell_type": "markdown",
   "metadata": {
    "id": "S1C0ETk-bDZI"
   },
   "source": [
    "What is _data casting_?"
   ]
  },
  {
   "cell_type": "code",
   "execution_count": null,
   "metadata": {
    "id": "CJDwJP0gbDZM"
   },
   "outputs": [],
   "source": []
  },
  {
   "cell_type": "markdown",
   "metadata": {
    "id": "OmOLejTnbDZO"
   },
   "source": [
    "What is a _wrapper_ function? Give examples"
   ]
  },
  {
   "cell_type": "code",
   "execution_count": null,
   "metadata": {
    "id": "4eZ_-AzCbDZS"
   },
   "outputs": [],
   "source": []
  },
  {
   "cell_type": "markdown",
   "metadata": {
    "id": "Rl6Vcv0XbDZU"
   },
   "source": [
    "Mention the similarities and differences between the `str` and `list` data types"
   ]
  },
  {
   "cell_type": "code",
   "execution_count": null,
   "metadata": {
    "id": "rThn0ndxbDZd"
   },
   "outputs": [],
   "source": []
  },
  {
   "cell_type": "markdown",
   "metadata": {
    "id": "Gv5ViZ_DbDZm"
   },
   "source": [
    "What is _aliasing_? Give an example"
   ]
  },
  {
   "cell_type": "code",
   "execution_count": null,
   "metadata": {
    "id": "sG6gJa0qbDZo"
   },
   "outputs": [],
   "source": []
  },
  {
   "cell_type": "markdown",
   "metadata": {
    "id": "ZQEIOJIUbDZp"
   },
   "source": [
    "- Can I have functions with more than one `return`?\n",
    "- Can I have functions without `return`?"
   ]
  },
  {
   "cell_type": "code",
   "execution_count": null,
   "metadata": {
    "id": "CALc4A1ibDZr"
   },
   "outputs": [],
   "source": []
  },
  {
   "cell_type": "markdown",
   "metadata": {
    "id": "dKf3Nos5bDZr"
   },
   "source": [
    "Can I assign functions that have no `return` value to a variable?"
   ]
  },
  {
   "cell_type": "code",
   "execution_count": null,
   "metadata": {
    "id": "LlTqQbpUbDZs"
   },
   "outputs": [],
   "source": []
  },
  {
   "cell_type": "markdown",
   "metadata": {
    "id": "kCa3XkCrbDZt"
   },
   "source": [
    "What elements should the _documentation_ contain?"
   ]
  },
  {
   "cell_type": "code",
   "execution_count": null,
   "metadata": {
    "id": "MjLiVGgMbDZu"
   },
   "outputs": [],
   "source": []
  },
  {
   "cell_type": "markdown",
   "metadata": {
    "id": "Hf0_uUg5bDZw"
   },
   "source": [
    "Imagine that you have an object called _toto_.\n",
    "- How would you access its _f1_ method that receives two parameters?\n",
    "- How do yoou acces to its _momo_ attribute?\n",
    "- How could you see all the methods and attributes of _toto_?"
   ]
  },
  {
   "cell_type": "code",
   "execution_count": null,
   "metadata": {
    "id": "4d3L6Cd7bDZw"
   },
   "outputs": [],
   "source": []
  },
  {
   "cell_type": "markdown",
   "metadata": {
    "id": "NAHCN_LNbDZx"
   },
   "source": [
    "# Practical Exam\n",
    "\n",
    "All exam code must be commented, functions must be documented and the user interface and display must be CLEAN, CLEAR, and CONCISE.\n",
    "\n",
    "- [Fibonacci Secuence](#Fibonacci-Secuence)\n",
    "- [Monte Carlo Simulation (approximate Pi)](#Monte-Carlo-Simulation-(approximate-Pi))\n",
    "- [Caesar cipher](#Caesar-cipher)\n",
    "- [List of Lists](#List-of-Lists)\n",
    "- [Wordplay](#Wordplay)\n",
    "- [Intermediate Level](#Intermediate-Level)\n",
    "    - [Hangman Game (Intermediate)](#Hangman-Game-(Intermediate))\n",
    "    - [Chords](#Chords)\n",
    "- [Advanced Level](#Advanced-Level)\n",
    "    - [Pascal’s Triangle](#Pascal’s-Triangle)\n",
    "    - [Hangman Game (Advanced)](#Hangman-Game-(Advanced))"
   ]
  },
  {
   "cell_type": "markdown",
   "metadata": {
    "id": "VBbVo5TsbDZy"
   },
   "source": [
    "## Fibonacci Secuence (1 point)\n",
    "\n",
    "In mathematics, the Fibonacci numbers, commonly denoted $F_n$, are the numbers form the Fibonacci sequence. This secuence is such that each number is the sum of the two preceding ones, starting from 0 and 1. That is, the n-th number of the Fibonacci sequence is:\n",
    "\n",
    "<br/>\n",
    "\n",
    "\n",
    "$$\n",
    "F_n = \n",
    "\\left\\{\n",
    "\\begin{array}{lcc}\n",
    "0 & \\text{if} & n = 0\\\\\n",
    "1 & \\text{if} & n = 1\\\\\n",
    "F_{n-1} + F_{n-2} & \\text{if} & n > 1\\\\\n",
    "\\end{array}\n",
    "\\right.\n",
    "$$\n",
    "\n",
    "<br/>\n",
    "\n",
    "- Write a function called `fibonacci` that is given an integer $n \\ge 0$ and returns the n-th number of the Fibonacci secuence.\n",
    "- Write a function called `fibonacciUpTo` that is given an integer $num > 0$ and returns a list with all Fibonacci numbers up to and strictly lower than $num$."
   ]
  },
  {
   "cell_type": "code",
   "execution_count": null,
   "metadata": {
    "id": "tOXwANPobDZz"
   },
   "outputs": [],
   "source": [
    "fibo(7)\n",
    "[0 1 1 2 3 5 8]"
   ]
  },
  {
   "cell_type": "markdown",
   "metadata": {
    "id": "67XuX4ZYbDZ0"
   },
   "source": [
    "## Monte Carlo Simulation (approximate Pi) (1 point)\n",
    "\n",
    "\n",
    "Monte Carlo is a method to solving problems that uses random inputs to examine the domain. This method has a wide variety of applications from problems too complex to solve analytically to estimating the area under the curve. $\\pi$ approximation is a simple example that illustrates the idea of how the Monte Carlo method works.\n",
    "\n",
    "<img src=\"https://schrochicken.files.wordpress.com/2012/11/mc332.gif\" width = 400 height = 400>\n",
    "\n",
    "To understand the method, consider the following:\n",
    "\n",
    "- The white square has an area of 1.\n",
    "- The quarter of the grey circle has an area of $\\frac{\\pi}{4}$ since the radius of the circle is 1.\n",
    "- The ratio of the circle area to the square area is $p = \\frac{\\frac{\\pi}{4}}{1} = \\frac{\\pi}{4}$.\n",
    "- Each of the points generated is random, and all must be within the range of the square area. The red ones are the ones that fall inside the circle.\n",
    "- The ratio between all the red points (inside the circle), and the total points is $p = \\frac{\\text{Circle points}}{\\text{Square points}}$.\n",
    "- Solve for $\\pi$.\n",
    "\n",
    "For the method to work, each point must be random and have the same probability of getting picked, and the number of points must be large enough ($\\approx$ 10,000 points).\n",
    "\n",
    "This methot is the approximation of $\\pi$ using Monte Carlo simulation."
   ]
  },
  {
   "cell_type": "code",
   "execution_count": null,
   "metadata": {
    "id": "So1B8L-IbDZ1"
   },
   "outputs": [],
   "source": []
  },
  {
   "cell_type": "markdown",
   "metadata": {
    "id": "uIK0glKebDZ1"
   },
   "source": [
    "## Caesar Cipher (1 point)\n",
    "\n",
    "Caesar Cipher is one of the simplest and most widely known encryption techniques. It is a type of substitution cipher in which each letter in the plaintext is replaced by a letter some fixed number of positions down the alphabet. For example, with a left shift of 3, D would be replaced by A, E would become B, and so on. \n",
    "\n",
    "<img src=\"https://www.textoscientificos.com/imagenes/criptografia/caesar.gif\" width = 400 height = 400>\n",
    "\n",
    "- Write a function `caesarCipher` that is given a `string` (a message) by the user and retunrs a ciphered versión of it, using Caesar cipher with a right shift of 6. Advanced: do it for a right shift of $n$.\n",
    "- Write a function `decipherCaesar` that receives an encrypted message (via the Caesar Cipher of the previous task) and returns the original message."
   ]
  },
  {
   "cell_type": "code",
   "execution_count": null,
   "metadata": {
    "id": "684470LCbDZ2"
   },
   "outputs": [],
   "source": [
    "abcdefjhijklmnopqrstuvwxyz\n",
    "cesar_ciphere('jonathan')\n",
    "PUDHFOSD\n",
    "decipherCaesar(PUDHFOSD)\n",
    "Jnathan"
   ]
  },
  {
   "cell_type": "markdown",
   "metadata": {
    "id": "QFSjrS2ybDZ2"
   },
   "source": [
    "## List of Lists (1 point)\n",
    "\n",
    "Write a function that receives a `list` $\\textit{l}$ and a `integer` $\\textit{num}$. The function must group the elements of $\\textit{l}$ in sublists of $\\textit{num}$ elements and group them all in a larger list, if the number of elements of $\\textit{l}$ is not divisible by $\\textit{num}$, the remainder must go in a sublist as well.\n",
    "\n",
    "Example:\n",
    "\n",
    "```Python\n",
    "l = [1, 2, 3, 4, 5, 6, 7, 8, 9]\n",
    "listOfLists(l, 4)\n",
    "[[1, 2, 3, 4], [5, 6, 7, 8], [9]]\n",
    "```\n"
   ]
  },
  {
   "cell_type": "code",
   "execution_count": null,
   "metadata": {
    "id": "J-RdaPqpbDZ3"
   },
   "outputs": [],
   "source": []
  },
  {
   "cell_type": "markdown",
   "metadata": {
    "id": "Nt_P2xz8bDZ3"
   },
   "source": [
    "## Wordplay (2 points)\n",
    "\n",
    "Wordplay – Use the file **_wordsInEnglish.txt_** for this problem. Find the following:\n",
    "\n",
    "- (a) All words ending in _ime_.\n",
    "- (b) How many words contain at least one of the letters _r, s, t, l, n, e_.\n",
    "- (c) The percentage of words that contain at least one of the letters _r, s, t, l, n, e_.\n",
    "- (d) All words with no vowels.\n",
    "- (e) All words that contain every vowel.\n",
    "- (f) Whether there are more _ten-letter_ words or _seven-letter_ words.\n",
    "- (g) The longest word in the list.\n",
    "- (h) All palindromes.\n",
    "- (i) All words that are words in reverse, like _rat_ and _tar_.\n",
    "- (j) All words that contain a _q_ that isn’t followed by a _u_.\n",
    "- (k) All words that contain _zu_ anywhere in the word.\n",
    "- (l) All words that contain both a _z_ and a _w_.\n",
    "- (m) All words whose first letter is _a_, third letter is _e_ and fifth letter is _i_.\n",
    "- (n) All two-letter words.\n",
    "- (o) All four-letter words that start and end with the same letter.\n",
    "- (p) All words that contain at least nine vowels.\n",
    "- (q) All words that contain each of the letters _a, b, c, d, e,_ and _f_ in any order. There may be other letters in the word. Two examples are backfield and feedback.\n",
    "- (r) All words whose first four and last four letters are the same.\n",
    "- (s) The word that has the most _i’s_.\n",
    "\n",
    "**Advanced**\n",
    "\n",
    "- (t) All words that contain double letters next to each other like _aardvark_ or _book_, excluding words that end in _lly_.\n",
    "- (u) All words that contain _ab_ in multiple places, like _habitable_.\n",
    "- (v) All words with four or more vowels in a row.\n",
    "- (w) All words of the form _abcd*dcba_, where _*_ is arbitrarily long sequence of letters.\n",
    "- (x) All groups of 5 words, like _pat pet pit pot put_, where each word is 3 letters, all words share the same first and last letters, and the middle letter runs through all 5 vowels."
   ]
  },
  {
   "cell_type": "code",
   "execution_count": null,
   "metadata": {
    "id": "LoRzXZ2vbDZ4"
   },
   "outputs": [],
   "source": [
    "#inciso a (a) All words ending in ime\n",
    "for i in range(list)\n",
    "\n",
    "lista_final"
   ]
  },
  {
   "cell_type": "markdown",
   "metadata": {
    "id": "jJmj22z3bDZ5"
   },
   "source": [
    "## Intermediate Level"
   ]
  },
  {
   "cell_type": "markdown",
   "metadata": {
    "id": "ifUOEf9dbDZ6"
   },
   "source": [
    "### Hangman Game (Intermediate) (1 point)\n",
    "\n",
    "\n",
    "Program the Hangman Game. The program must read the file `Countries.csv`. You must preprocess the names (all in capital letters, remove accents, etc.), the program must choose a name at random and make the display so that the user can play. Most of the word must be hidden ($\\approx 70\\%$), the user has 5 tries to guess the word, each time the user correctly guesses a letter all the occurences of that letter must be updated on the word display in the screen.\n",
    "\n",
    "<br/>\n",
    "\n",
    "Example (the word is \"Argentina\"):\n",
    "\n",
    "```\n",
    "Hello! Let's play Hangman, you have 5 tries\n",
    "\n",
    "\n",
    "Guess: -----T--A\n",
    "Please enter a letter: a\n",
    "\n",
    "Good!\n",
    "Guess: A----T--A\n",
    "Please enter a letter:z\n",
    "\n",
    "Damn it, that was wrong!\n",
    "You have 4 tries now\n",
    "\n",
    "Guess: A----T--A\n",
    "Please enter a letter:\n",
    "```"
   ]
  },
  {
   "cell_type": "code",
   "execution_count": null,
   "metadata": {
    "id": "kq-_s44pbDZ6"
   },
   "outputs": [],
   "source": [
    "countries = open('countries.csv', r)\n",
    "file = countries.readlines()\n",
    "file.close()"
   ]
  },
  {
   "cell_type": "markdown",
   "metadata": {
    "id": "j3eT2TQVbDZ7"
   },
   "source": [
    "## Advanced Level"
   ]
  },
  {
   "cell_type": "markdown",
   "metadata": {
    "id": "Id82e2JkbDZ8"
   },
   "source": [
    "### Pascal’s Triangle (1 point)\n",
    "\n",
    "Pascal’s triangle is shown below. On the outside are 1’s and each other number is the sum of\n",
    "the two numbers directly above it. Write a program to generate Pascal’s triangle. Allow the\n",
    "user to specify the number of rows. Be sure that it is nicely formatted, like below.\n",
    "\n",
    "<br/>\n",
    "\n",
    "```\n",
    "                                                       1\n",
    "                                                     1   1\n",
    "                                                    1  2  1\n",
    "                                                   1  3  3 1                                             \n",
    "                                                  1  4 6  4 1\n",
    "                                                 1 5 10 10 5 1\n",
    "```"
   ]
  },
  {
   "cell_type": "code",
   "execution_count": null,
   "metadata": {
    "id": "sK4Jh-5obDZ9"
   },
   "outputs": [],
   "source": []
  },
  {
   "cell_type": "markdown",
   "metadata": {
    "id": "l8woNwgQbDZ9"
   },
   "source": [
    "### Hangman Game (Advanced) (1 point)\n",
    "\n",
    "Program the Hangman Game. The program must read the topics files (Country names, mathematicians, etc.), you must search for the files of 3 topics of your choice. You must preprocess the files (all in capital letters, remove accents, etc.). The program must choose a random topic and then you must randomly choose a word of that topic, make the display so that the user can play. Most of the word must be hidden ($\\approx 70\\%$), the user has 5 tries to guess the word, each time the user correctly guesses a letter all the occurences of that letter must be updated on the word display in the screen.\n",
    "\n",
    "<br/>\n",
    "\n",
    "Example (the word is \"Poncaire\"):\n",
    "\n",
    "```\n",
    "Hello! Let's play hangman, you have 5 tries\n",
    "\n",
    "The Topic is Mathematicians\n",
    "\n",
    "Guess: ----A--E\n",
    "Please enter a letter: o\n",
    "\n",
    "Good!\n",
    "Guess: -O--A--E\n",
    "Please enter a letter:x\n",
    "\n",
    "Damn it, that was wrong!\n",
    "You have 4 tries now\n",
    "\n",
    "Guess: -O--A--E\n",
    "Please enter a letter:\n",
    "```\n"
   ]
  },
  {
   "cell_type": "code",
   "execution_count": null,
   "metadata": {
    "id": "O_qpA9xqbDaA"
   },
   "outputs": [],
   "source": []
  }
 ],
 "metadata": {
  "colab": {
   "name": "Exam of the first module.ipynb",
   "provenance": []
  },
  "kernelspec": {
   "display_name": "Python 3",
   "language": "python",
   "name": "python3"
  },
  "language_info": {
   "codemirror_mode": {
    "name": "ipython",
    "version": 3
   },
   "file_extension": ".py",
   "mimetype": "text/x-python",
   "name": "python",
   "nbconvert_exporter": "python",
   "pygments_lexer": "ipython3",
   "version": "3.8.8"
  },
  "toc": {
   "base_numbering": 1,
   "nav_menu": {},
   "number_sections": true,
   "sideBar": true,
   "skip_h1_title": false,
   "title_cell": "Table of Contents",
   "title_sidebar": "Contents",
   "toc_cell": false,
   "toc_position": {},
   "toc_section_display": true,
   "toc_window_display": false
  },
  "varInspector": {
   "cols": {
    "lenName": 16,
    "lenType": 16,
    "lenVar": 40
   },
   "kernels_config": {
    "python": {
     "delete_cmd_postfix": "",
     "delete_cmd_prefix": "del ",
     "library": "var_list.py",
     "varRefreshCmd": "print(var_dic_list())"
    },
    "r": {
     "delete_cmd_postfix": ") ",
     "delete_cmd_prefix": "rm(",
     "library": "var_list.r",
     "varRefreshCmd": "cat(var_dic_list()) "
    }
   },
   "types_to_exclude": [
    "module",
    "function",
    "builtin_function_or_method",
    "instance",
    "_Feature"
   ],
   "window_display": false
  }
 },
 "nbformat": 4,
 "nbformat_minor": 4
}
