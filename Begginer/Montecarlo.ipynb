{
 "cells": [
  {
   "cell_type": "code",
   "execution_count": 22,
   "metadata": {},
   "outputs": [
    {
     "name": "stdout",
     "output_type": "stream",
     "text": [
      "The PI estimation for 10000 shoots is: 3.1404 with 7851 success cases \n"
     ]
    }
   ],
   "source": [
    "import random\n",
    " \n",
    "def calculate(n):\n",
    "    '''\n",
    "    Calculates the PI estimation using Monte Carlo\n",
    "    input:\n",
    "        n:int -> Shooting points in the zone\n",
    "    output:\n",
    "        Pi estimacion: float\n",
    "    >>>calculate(3)\n",
    "    3.333 - Probabilistic result\n",
    "    '''\n",
    "    count = 0\n",
    "    for i in range(n):\n",
    "        \n",
    "        #throws a point using x^2 + y^2\n",
    "        x = random.random()        \n",
    "        y = random.random()    \n",
    "        throw_point = pow(x,2) + pow(y,2)\n",
    "        \n",
    "        #if point fell into circle increase we success cases\n",
    "        if throw_point < 1:\n",
    "            count += 1\n",
    "    #using count/n = pi / 4 will be get an estimation\n",
    "    return [4*(count/n),count]\n",
    "\n",
    "############################################\n",
    "\n",
    "'''\n",
    "    1) Digit the number of shoots to use\n",
    "'''\n",
    " \n",
    "try:\n",
    "    n = int( input('Digit the number of shooting upper than 2') ) \n",
    "    if type(n) != int or n < 2:\n",
    "        raise Exception('Invalid value')\n",
    "    \n",
    "    result = calculate(n) \n",
    "    print( f'The PI estimation for {n} shoots is: {result[0]} with {result[1]} success cases ')\n",
    "    \n",
    "except Exception as e:\n",
    "    print( str(e) )\n",
    "\n",
    " \n"
   ]
  },
  {
   "cell_type": "code",
   "execution_count": null,
   "metadata": {},
   "outputs": [],
   "source": []
  }
 ],
 "metadata": {
  "interpreter": {
   "hash": "22cee3f43e207afcfea1f6401ec209eca19742c8a2dad607ec2c90430a6c0b46"
  },
  "kernelspec": {
   "display_name": "Python 3.10.1 64-bit",
   "language": "python",
   "name": "python3"
  },
  "language_info": {
   "codemirror_mode": {
    "name": "ipython",
    "version": 3
   },
   "file_extension": ".py",
   "mimetype": "text/x-python",
   "name": "python",
   "nbconvert_exporter": "python",
   "pygments_lexer": "ipython3",
   "version": "3.10.1"
  },
  "orig_nbformat": 4
 },
 "nbformat": 4,
 "nbformat_minor": 2
}
