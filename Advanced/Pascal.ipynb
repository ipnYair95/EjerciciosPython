{
 "cells": [
  {
   "cell_type": "code",
   "execution_count": 7,
   "metadata": {},
   "outputs": [
    {
     "name": "stdout",
     "output_type": "stream",
     "text": [
      "   [1]   \n",
      "  [1, 1] \n",
      "[1, 2, 1]\n",
      "[1, 3, 3, 1]\n"
     ]
    }
   ],
   "source": [
    "def PascalTriangle(n):\n",
    "    '''\n",
    "        fuction that calculates pascal using indexes that pount\n",
    "        input: \n",
    "            n -> number of rows\n",
    "        output:\n",
    "            triangle        \n",
    "    '''\n",
    "    res = [[1]]\n",
    "    for line in range(2, n+2):\n",
    "        newline = [1]\n",
    "        \n",
    "        #we go through the previous row to add\n",
    "        for i in range(1, line-1):\n",
    "            newline.append(res[-1][i-1] + res[-1][i])\n",
    "        newline.append(1)\n",
    "        res.append(newline)\n",
    "    return res\n",
    "\n",
    "#############################\n",
    "\n",
    "try:    \n",
    "    \n",
    "    n = 0\n",
    "    n = int(input('Enter the rows to calculate: '))\n",
    "\n",
    "    if( n <= 0 or type(n) != int ):\n",
    "        raise Exception(\"Invalid value\")\n",
    "        \n",
    "\n",
    "    list1 = PascalTriangle(n)\n",
    "    for i in range(len(list1)):\n",
    "        x = str( list1[i] ).center(n*n, \" \")\n",
    "        print(  x )      \n",
    "    \n",
    "except Exception as e:\n",
    "    print(e)\n",
    "    "
   ]
  },
  {
   "cell_type": "code",
   "execution_count": null,
   "metadata": {},
   "outputs": [],
   "source": []
  }
 ],
 "metadata": {
  "interpreter": {
   "hash": "22cee3f43e207afcfea1f6401ec209eca19742c8a2dad607ec2c90430a6c0b46"
  },
  "kernelspec": {
   "display_name": "Python 3.10.1 64-bit",
   "language": "python",
   "name": "python3"
  },
  "language_info": {
   "codemirror_mode": {
    "name": "ipython",
    "version": 3
   },
   "file_extension": ".py",
   "mimetype": "text/x-python",
   "name": "python",
   "nbconvert_exporter": "python",
   "pygments_lexer": "ipython3",
   "version": "3.10.1"
  },
  "orig_nbformat": 4
 },
 "nbformat": 4,
 "nbformat_minor": 2
}
